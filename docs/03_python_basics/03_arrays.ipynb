{
 "cells": [
  {
   "cell_type": "markdown",
   "id": "e8335abc-6023-4919-a720-48b5dde70da0",
   "metadata": {},
   "source": [
    "# Arrays\n",
    "\n",
    "While lists and tuples go a long way, they are inherently 1D-structures - whereas images, for instances are 2D structures. [Numpy](https://numpy.org/) provides such data structures and represents one of the cornerstones of the Python ecosystem. To use it, we need to *import* it. Whenever we want to use a function from this package, we need to use it like this:\n",
    "\n",
    "`package.function()`\n",
    "\n",
    "Hence, it is often desirable to use an alias for often-used packages:"
   ]
  },
  {
   "cell_type": "code",
   "execution_count": 1,
   "id": "78a5b1f2-800b-450c-b164-2d5936cf90d6",
   "metadata": {},
   "outputs": [],
   "source": [
    "import numpy as np"
   ]
  },
  {
   "cell_type": "markdown",
   "id": "fd583fe4-532d-4a36-87f6-10090e037049",
   "metadata": {},
   "source": [
    "Lists can be converted in numpy arrays like this:"
   ]
  },
  {
   "cell_type": "code",
   "execution_count": 13,
   "id": "205e71d3-12cd-44e3-8f9f-fe0a72ee783f",
   "metadata": {},
   "outputs": [],
   "source": [
    "measurements = [5.5, 6.3, 7.2, 8.0, 8.8]"
   ]
  },
  {
   "cell_type": "code",
   "execution_count": 17,
   "id": "921cea56-8869-4026-905d-6b3627949fd3",
   "metadata": {},
   "outputs": [
    {
     "data": {
      "text/plain": [
       "array([5.5, 6.3, 7.2, 8. , 8.8])"
      ]
     },
     "execution_count": 17,
     "metadata": {},
     "output_type": "execute_result"
    }
   ],
   "source": [
    "measurements2 = np.asarray(measurements)\n",
    "measurements2"
   ]
  },
  {
   "cell_type": "markdown",
   "id": "fbe28c1b-8136-4676-bb57-2d3c1656c2a0",
   "metadata": {},
   "source": [
    "Accessing elements of an array works exactly as it does with lists:"
   ]
  },
  {
   "cell_type": "code",
   "execution_count": 18,
   "id": "612ade42-601e-407e-bf7c-4fd91b66e017",
   "metadata": {},
   "outputs": [
    {
     "data": {
      "text/plain": [
       "array([5.5, 6.3, 7.2])"
      ]
     },
     "execution_count": 18,
     "metadata": {},
     "output_type": "execute_result"
    }
   ],
   "source": [
    "measurements2[:3]"
   ]
  },
  {
   "cell_type": "markdown",
   "id": "4867a2be-04fd-4b7d-bab7-094a7f48f18f",
   "metadata": {},
   "source": [
    "Numpy arrays allow to perform mathematical operations in a quite simple fashion:"
   ]
  },
  {
   "cell_type": "code",
   "execution_count": 20,
   "id": "3d66d17f-3c6a-41b2-8133-0faef67e2ec2",
   "metadata": {},
   "outputs": [
    {
     "data": {
      "text/plain": [
       "array([11. , 12.6, 14.4, 16. , 17.6])"
      ]
     },
     "execution_count": 20,
     "metadata": {},
     "output_type": "execute_result"
    }
   ],
   "source": [
    "measurements2 * 2"
   ]
  },
  {
   "cell_type": "code",
   "execution_count": 22,
   "id": "9a82d4b0-33ce-40de-ae85-8ae62fb6a095",
   "metadata": {},
   "outputs": [
    {
     "data": {
      "text/plain": [
       "array([6.5, 7.3, 8.2, 9. , 9.8])"
      ]
     },
     "execution_count": 22,
     "metadata": {},
     "output_type": "execute_result"
    }
   ],
   "source": [
    "measurements2 + 1"
   ]
  },
  {
   "cell_type": "markdown",
   "id": "7f571e8f-9b57-4463-ac44-4282732ac1dd",
   "metadata": {},
   "source": [
    "## Masking numpy arrays\n",
    "Masking or logical indexing are the term used for selecting entries in arrays, e.g. depending on its content.\n",
    "In order to do this, we need to use [numpy arrays](https://numpy.org/doc/stable/user/basics.creation.html)."
   ]
  },
  {
   "cell_type": "code",
   "execution_count": 24,
   "id": "396bbd4b-d770-4507-9d85-737437a0eacd",
   "metadata": {},
   "outputs": [
    {
     "data": {
      "text/plain": [
       "array([ 1, 17, 25,  3,  5, 26, 12])"
      ]
     },
     "execution_count": 24,
     "metadata": {},
     "output_type": "execute_result"
    }
   ],
   "source": [
    "array = np.asarray([1, 17, 25, 3, 5, 26, 12])\n",
    "array"
   ]
  },
  {
   "cell_type": "markdown",
   "id": "8f7900e2-54d5-493c-a401-4f066c54369b",
   "metadata": {},
   "source": [
    "Next, we create a mask, e.g. a mask that defines all measurements which are above a given threshold:"
   ]
  },
  {
   "cell_type": "code",
   "execution_count": 27,
   "id": "dddc05f0-f666-4b90-8de9-54eca3e0910a",
   "metadata": {},
   "outputs": [
    {
     "data": {
      "text/plain": [
       "array([False,  True,  True, False, False,  True,  True])"
      ]
     },
     "execution_count": 27,
     "metadata": {},
     "output_type": "execute_result"
    }
   ],
   "source": [
    "mask = array > 10\n",
    "mask"
   ]
  },
  {
   "cell_type": "markdown",
   "id": "ed99a910-0dac-45ba-9c8b-78f654881906",
   "metadata": {},
   "source": [
    "We can apply that mask to our data to retrieve a new array that only contains masked values."
   ]
  },
  {
   "cell_type": "code",
   "execution_count": 3,
   "id": "94a8b9c4-aca8-47be-9b74-c305a82d4c41",
   "metadata": {},
   "outputs": [
    {
     "data": {
      "text/plain": [
       "array([17, 25, 26, 12])"
      ]
     },
     "execution_count": 3,
     "metadata": {},
     "output_type": "execute_result"
    }
   ],
   "source": [
    "measurements[mask]"
   ]
  },
  {
   "cell_type": "markdown",
   "id": "892c8b48-21b1-4655-aa7c-7802cf8ba632",
   "metadata": {},
   "source": [
    "Sidenote: If we inspect the datatype of the array, we see something interesting - the array \"knows\" what sort of values (numbers, strings, etc.) are stored inside it!"
   ]
  },
  {
   "cell_type": "code",
   "execution_count": 32,
   "id": "10871775-7644-4ee3-b7f7-bf8bddd554a5",
   "metadata": {},
   "outputs": [
    {
     "name": "stdout",
     "output_type": "stream",
     "text": [
      "Datatype of variable `array`:  int32\n",
      "Datatype of variable `mask`:  bool\n"
     ]
    }
   ],
   "source": [
    "print('Datatype of variable `array`: ', array.dtype)\n",
    "print('Datatype of variable `mask`: ', mask.dtype)"
   ]
  },
  {
   "cell_type": "markdown",
   "id": "e2327ef7-c0c3-4c26-8e6c-3002a6abe439",
   "metadata": {},
   "source": [
    "## Exercises\n",
    "Create a new mask for all measurements below 20."
   ]
  },
  {
   "cell_type": "code",
   "execution_count": null,
   "id": "03f9825d-c806-4e85-b7ea-fa75b02e7299",
   "metadata": {},
   "outputs": [],
   "source": []
  },
  {
   "cell_type": "markdown",
   "id": "330a3186-c740-4be7-9eb9-91822d78e173",
   "metadata": {},
   "source": [
    "Apply the mask to retrieve a new array with numbers below 20."
   ]
  },
  {
   "cell_type": "code",
   "execution_count": null,
   "id": "78c9d414-310f-4771-aadc-a18032fe0408",
   "metadata": {},
   "outputs": [],
   "source": []
  },
  {
   "cell_type": "markdown",
   "id": "9d956a11-a549-4dda-bda1-25c3199a3cdc",
   "metadata": {},
   "source": [
    "Compute the average of all numbers below 20. *Hint*: There is probably a numpy function for all basic operations/calculations."
   ]
  },
  {
   "cell_type": "code",
   "execution_count": null,
   "id": "3a20c289-9191-47ba-bdac-aa1332d50c16",
   "metadata": {},
   "outputs": [],
   "source": []
  }
 ],
 "metadata": {
  "kernelspec": {
   "display_name": "Python 3 (ipykernel)",
   "language": "python",
   "name": "python3"
  },
  "language_info": {
   "codemirror_mode": {
    "name": "ipython",
    "version": 3
   },
   "file_extension": ".py",
   "mimetype": "text/x-python",
   "name": "python",
   "nbconvert_exporter": "python",
   "pygments_lexer": "ipython3",
   "version": "3.9.12"
  }
 },
 "nbformat": 4,
 "nbformat_minor": 5
}
